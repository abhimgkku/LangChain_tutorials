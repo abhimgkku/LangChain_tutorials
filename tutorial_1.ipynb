{
 "cells": [
  {
   "cell_type": "code",
   "execution_count": 3,
   "metadata": {},
   "outputs": [],
   "source": [
    "from langchain_openai.chat_models import ChatOpenAI"
   ]
  },
  {
   "cell_type": "code",
   "execution_count": null,
   "metadata": {},
   "outputs": [
    {
     "data": {
      "text/plain": [
       "True"
      ]
     },
     "execution_count": 1,
     "metadata": {},
     "output_type": "execute_result"
    }
   ],
   "source": [
    "from dotenv import load_dotenv\n",
    "\n",
    "load_dotenv(override=True)"
   ]
  },
  {
   "cell_type": "code",
   "execution_count": 2,
   "metadata": {},
   "outputs": [],
   "source": [
    "# Install required packages\n",
    "from langchain_opentutorial import package\n",
    "\n",
    "package.install(\n",
    "    [\"langchain\", \"langchain_openai\"],\n",
    "    verbose=False,\n",
    "    upgrade=False,\n",
    ")"
   ]
  },
  {
   "cell_type": "code",
   "execution_count": 5,
   "metadata": {},
   "outputs": [
    {
     "name": "stdout",
     "output_type": "stream",
     "text": [
      "[Answer]: content='The capital of India is New Delhi.' additional_kwargs={'refusal': None} response_metadata={'token_usage': {'completion_tokens': 9, 'prompt_tokens': 14, 'total_tokens': 23, 'completion_tokens_details': {'accepted_prediction_tokens': 0, 'audio_tokens': 0, 'reasoning_tokens': 0, 'rejected_prediction_tokens': 0}, 'prompt_tokens_details': {'audio_tokens': 0, 'cached_tokens': 0}}, 'model_name': 'gpt-4o-mini-2024-07-18', 'system_fingerprint': 'fp_b8bc95a0ac', 'id': 'chatcmpl-BEizG6XC7y9WRxg67Y7j8GhrpVRN8', 'finish_reason': 'stop', 'logprobs': None} id='run-4ccae537-68d1-4d7e-b721-91b41880b43b-0' usage_metadata={'input_tokens': 14, 'output_tokens': 9, 'total_tokens': 23, 'input_token_details': {'audio': 0, 'cache_read': 0}, 'output_token_details': {'audio': 0, 'reasoning': 0}}\n"
     ]
    }
   ],
   "source": [
    "llm = ChatOpenAI(\n",
    "    temperature=0.1,\n",
    "    model=\"gpt-4o-mini\"\n",
    ")\n",
    "question = \" what is the capital of india?\"\n",
    "print(f\"[Answer]: {llm.invoke(question)}\")"
   ]
  },
  {
   "cell_type": "code",
   "execution_count": 6,
   "metadata": {},
   "outputs": [
    {
     "name": "stdout",
     "output_type": "stream",
     "text": [
      "Response: The capital of India is New Delhi.\n",
      "Model: gpt-4o-mini-2024-07-18\n",
      "Total Tokens Used: 23\n"
     ]
    }
   ],
   "source": [
    "response = llm.invoke(question)\n",
    "content = response.content\n",
    "model_name = response.response_metadata[\"model_name\"]\n",
    "total_tokens_used = response.response_metadata[\"token_usage\"][\"total_tokens\"]\n",
    "print(f\"Response: {content}\")\n",
    "print(f\"Model: {model_name}\")\n",
    "print(f\"Total Tokens Used: {total_tokens_used}\")"
   ]
  },
  {
   "cell_type": "code",
   "execution_count": 8,
   "metadata": {},
   "outputs": [
    {
     "name": "stdout",
     "output_type": "stream",
     "text": [
      "content='The capital of India is New Delhi.' additional_kwargs={'refusal': None} response_metadata={'token_usage': {'completion_tokens': 9, 'prompt_tokens': 14, 'total_tokens': 23, 'completion_tokens_details': {'accepted_prediction_tokens': 0, 'audio_tokens': 0, 'reasoning_tokens': 0, 'rejected_prediction_tokens': 0}, 'prompt_tokens_details': {'audio_tokens': 0, 'cached_tokens': 0}}, 'model_name': 'gpt-4o-mini-2024-07-18', 'system_fingerprint': 'fp_b8bc95a0ac', 'id': 'chatcmpl-BEj77DSvZnYEgfTpWfWkrnBuRQ3gQ', 'finish_reason': 'stop', 'logprobs': {'content': [{'token': 'The', 'bytes': [84, 104, 101], 'logprob': 0.0, 'top_logprobs': []}, {'token': ' capital', 'bytes': [32, 99, 97, 112, 105, 116, 97, 108], 'logprob': 0.0, 'top_logprobs': []}, {'token': ' of', 'bytes': [32, 111, 102], 'logprob': 0.0, 'top_logprobs': []}, {'token': ' India', 'bytes': [32, 73, 110, 100, 105, 97], 'logprob': 0.0, 'top_logprobs': []}, {'token': ' is', 'bytes': [32, 105, 115], 'logprob': 0.0, 'top_logprobs': []}, {'token': ' New', 'bytes': [32, 78, 101, 119], 'logprob': -3.368984107510187e-05, 'top_logprobs': []}, {'token': ' Delhi', 'bytes': [32, 68, 101, 108, 104, 105], 'logprob': -3.128163257315464e-07, 'top_logprobs': []}, {'token': '.', 'bytes': [46], 'logprob': -6.704273118884885e-07, 'top_logprobs': []}], 'refusal': None}} id='run-ab539e49-2093-4152-a50f-5a0cdef73f4d-0' usage_metadata={'input_tokens': 14, 'output_tokens': 9, 'total_tokens': 23, 'input_token_details': {'audio': 0, 'cache_read': 0}, 'output_token_details': {'audio': 0, 'reasoning': 0}}\n"
     ]
    }
   ],
   "source": [
    "llm_with_logprob = ChatOpenAI(\n",
    "    temperature=0.1, model_name=\"gpt-4o-mini\",max_tokens=2048\n",
    ").bind(logprobs=True)\n",
    "logprobs_response = llm_with_logprob.invoke(question)\n",
    "print(logprobs_response)"
   ]
  },
  {
   "cell_type": "code",
   "execution_count": 9,
   "metadata": {},
   "outputs": [
    {
     "name": "stdout",
     "output_type": "stream",
     "text": [
      "Certainly! Here are ten beautiful tourist destinations in India along with their addresses:\n",
      "\n",
      "1. **Taj Mahal**\n",
      "   - **Address:** Dharmapuri, Tajganj, Agra, Uttar Pradesh 282001, India\n",
      "\n",
      "2. **Jaipur (Pink City)**\n",
      "   - **Address:** Jaipur, Rajasthan, India\n",
      "\n",
      "3. **Kerala Backwaters**\n",
      "   - **Address:** Vembanad Lake, Kottayam, Kerala, India\n",
      "\n",
      "4. **Varanasi (Kashi)**\n",
      "   - **Address:** Varanasi, Uttar Pradesh, India\n",
      "\n",
      "5. **Goa Beaches**\n",
      "   - **Address:** Goa, India\n",
      "\n",
      "6. **Hampi**\n",
      "   - **Address:** Hampi, Karnataka 583239, India\n",
      "\n",
      "7. **Mysore Palace**\n",
      "   - **Address:** Sayyaji Rao Rd, Mysuru, Karnataka 570001, India\n",
      "\n",
      "8. **Ranthambore National Park**\n",
      "   - **Address:** Sawai Madhopur, Rajasthan 322001, India\n",
      "\n",
      "9. **Darjeeling**\n",
      "   - **Address:** Darjeeling, West Bengal, India\n",
      "\n",
      "10. **Andaman and Nicobar Islands**\n",
      "    - **Address:** Port Blair, Andaman and Nicobar Islands, India\n",
      "\n",
      "These destinations showcase India's rich cultural heritage, natural beauty, and diverse landscapes. Each location offers unique experiences for travelers."
     ]
    }
   ],
   "source": [
    "#using stereaming options\n",
    "answer = llm.stream(\"please provide 10 beautiful tourist destinations in india along with their addresses\")\n",
    "for token in answer:\n",
    "    print(token.content, end=\"\",flush=True)"
   ]
  },
  {
   "cell_type": "code",
   "execution_count": null,
   "metadata": {},
   "outputs": [],
   "source": []
  }
 ],
 "metadata": {
  "kernelspec": {
   "display_name": "Python 3",
   "language": "python",
   "name": "python3"
  },
  "language_info": {
   "codemirror_mode": {
    "name": "ipython",
    "version": 3
   },
   "file_extension": ".py",
   "mimetype": "text/x-python",
   "name": "python",
   "nbconvert_exporter": "python",
   "pygments_lexer": "ipython3",
   "version": "3.12.0"
  }
 },
 "nbformat": 4,
 "nbformat_minor": 2
}

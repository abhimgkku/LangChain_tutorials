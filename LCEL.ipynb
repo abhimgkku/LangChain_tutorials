{
 "cells": [
  {
   "cell_type": "code",
   "execution_count": 1,
   "metadata": {},
   "outputs": [],
   "source": [
    "# Install required packages\n",
    "from langchain_opentutorial import package\n",
    "\n",
    "package.install(\n",
    "    [\n",
    "        \"langsmith\",\n",
    "        \"langchain\",\n",
    "        \"langchain_openai\",\n",
    "        \"langchain_community\",\n",
    "    ],\n",
    "    verbose=False,\n",
    "    upgrade=False,\n",
    ")"
   ]
  },
  {
   "cell_type": "code",
   "execution_count": 2,
   "metadata": {},
   "outputs": [
    {
     "data": {
      "text/plain": [
       "True"
      ]
     },
     "execution_count": 2,
     "metadata": {},
     "output_type": "execute_result"
    }
   ],
   "source": [
    "from dotenv import load_dotenv\n",
    "\n",
    "# Load API KEY Information\n",
    "load_dotenv(override=True)"
   ]
  },
  {
   "cell_type": "code",
   "execution_count": 3,
   "metadata": {},
   "outputs": [
    {
     "data": {
      "text/plain": [
       "True"
      ]
     },
     "execution_count": 3,
     "metadata": {},
     "output_type": "execute_result"
    }
   ],
   "source": [
    "# Set up LangSmith tracking: https://smith.langchain.com\n",
    "from langsmith import utils\n",
    "\n",
    "utils.tracing_is_enabled()"
   ]
  },
  {
   "cell_type": "code",
   "execution_count": 4,
   "metadata": {},
   "outputs": [],
   "source": [
    "from langchain_core.prompts import PromptTemplate"
   ]
  },
  {
   "cell_type": "code",
   "execution_count": 5,
   "metadata": {},
   "outputs": [
    {
     "data": {
      "text/plain": [
       "PromptTemplate(input_variables=['country'], input_types={}, partial_variables={}, template='what is the capital of {country}')"
      ]
     },
     "execution_count": 5,
     "metadata": {},
     "output_type": "execute_result"
    }
   ],
   "source": [
    "template = \"what is the capital of {country}\"\n",
    "prompt_template = PromptTemplate.from_template(template)\n",
    "prompt_template"
   ]
  },
  {
   "cell_type": "code",
   "execution_count": 6,
   "metadata": {},
   "outputs": [
    {
     "data": {
      "text/plain": [
       "'what is the capital of india'"
      ]
     },
     "execution_count": 6,
     "metadata": {},
     "output_type": "execute_result"
    }
   ],
   "source": [
    "prompt = prompt_template.format(country=\"india\")\n",
    "prompt"
   ]
  },
  {
   "cell_type": "code",
   "execution_count": 7,
   "metadata": {},
   "outputs": [],
   "source": [
    "from langchain_openai.chat_models import ChatOpenAI\n",
    "\n",
    "model = ChatOpenAI(model=\"gpt-4o-mini\", temperature=0.1)"
   ]
  },
  {
   "cell_type": "code",
   "execution_count": 8,
   "metadata": {},
   "outputs": [
    {
     "data": {
      "text/plain": [
       "AIMessage(content='Artificial Intelligence (AI) is a branch of computer science that focuses on creating machines or software that can perform tasks that typically require human intelligence. This includes things like understanding language, recognizing patterns, solving problems, and making decisions.\\n\\nIn simple terms, you can think of AI as teaching computers to think and learn like humans. For example, when you use a voice assistant like Siri or Alexa, that’s AI at work. It understands your voice commands and responds appropriately. Similarly, AI is used in things like recommendation systems (like those on Netflix or Amazon) that suggest movies or products based on your preferences.\\n\\nOverall, AI aims to make machines smarter and more capable of helping us with various tasks in our daily lives.', additional_kwargs={'refusal': None}, response_metadata={'token_usage': {'completion_tokens': 144, 'prompt_tokens': 15, 'total_tokens': 159, 'completion_tokens_details': {'accepted_prediction_tokens': 0, 'audio_tokens': 0, 'reasoning_tokens': 0, 'rejected_prediction_tokens': 0}, 'prompt_tokens_details': {'audio_tokens': 0, 'cached_tokens': 0}}, 'model_name': 'gpt-4o-mini-2024-07-18', 'system_fingerprint': 'fp_b8bc95a0ac', 'id': 'chatcmpl-BEjQvcoh1YXZMb75r5JKBEgRQpTcE', 'finish_reason': 'stop', 'logprobs': None}, id='run-72e2bd48-6047-482b-8a64-d11b8b8b64bb-0', usage_metadata={'input_tokens': 15, 'output_tokens': 144, 'total_tokens': 159, 'input_token_details': {'audio': 0, 'cache_read': 0}, 'output_token_details': {'audio': 0, 'reasoning': 0}})"
      ]
     },
     "execution_count": 8,
     "metadata": {},
     "output_type": "execute_result"
    }
   ],
   "source": [
    "prompt_template = PromptTemplate.from_template(\"Please explain {topic} in simple terms.\")\n",
    "input = {\"topic\":\"Artificial Intelligence\"}\n",
    "chain =  prompt_template | model\n",
    "chain.invoke(input)"
   ]
  },
  {
   "cell_type": "code",
   "execution_count": 9,
   "metadata": {},
   "outputs": [
    {
     "name": "stdout",
     "output_type": "stream",
     "text": [
      "Artificial Intelligence (AI) is a branch of computer science that focuses on creating machines and software that can perform tasks that typically require human intelligence. This includes things like understanding language, recognizing patterns, solving problems, and making decisions.\n",
      "\n",
      "In simple terms, you can think of AI as a way to make computers \"smart.\" For example, when you use a voice assistant like Siri or Alexa, that’s AI at work. It listens to your voice, understands what you’re saying, and responds in a helpful way.\n",
      "\n",
      "AI can learn from data, which means it can improve over time. For instance, if you show an AI many pictures of cats and dogs, it can learn to tell the difference between them. Overall, AI aims to make machines that can think and act more like humans."
     ]
    }
   ],
   "source": [
    "#streaming\n",
    "answer = chain.stream(input)\n",
    "for token in answer:\n",
    "    print(token.content,end=\"\",flush=True)\n"
   ]
  },
  {
   "cell_type": "code",
   "execution_count": 10,
   "metadata": {},
   "outputs": [],
   "source": [
    "from langchain_core.output_parsers import StrOutputParser"
   ]
  },
  {
   "cell_type": "code",
   "execution_count": 15,
   "metadata": {},
   "outputs": [],
   "source": [
    "output_parser =  StrOutputParser()\n",
    " "
   ]
  },
  {
   "cell_type": "code",
   "execution_count": 17,
   "metadata": {},
   "outputs": [],
   "source": [
    "chain = prompt_template | model | output_parser"
   ]
  },
  {
   "cell_type": "code",
   "execution_count": 18,
   "metadata": {},
   "outputs": [
    {
     "name": "stdout",
     "output_type": "stream",
     "text": [
      "Artificial Intelligence (AI) is a branch of computer science that aims to create machines or software that can perform tasks that typically require human intelligence. This includes things like understanding language, recognizing patterns, solving problems, and making decisions.\n",
      "\n",
      "In simple terms, you can think of AI as teaching computers to think and learn like humans. For example, when you use a virtual assistant like Siri or Alexa, that’s AI at work. It understands your voice commands and responds in a helpful way. AI can also be found in things like recommendation systems (like those used by Netflix or Amazon), self-driving cars, and even in games where the computer plays against you.\n",
      "\n",
      "Overall, AI helps machines to mimic human abilities, making them smarter and more useful in various tasks."
     ]
    }
   ],
   "source": [
    "answer = chain.stream(input)\n",
    "for token in answer:\n",
    "    print(token,end=\"\",flush=True)"
   ]
  },
  {
   "cell_type": "code",
   "execution_count": 19,
   "metadata": {},
   "outputs": [],
   "source": [
    "template = \"\"\"\n",
    "You are a seasoned English teacher with 10 years of experience. Please write an English conversation suitable for the given situation.  \n",
    "Refer to the [FORMAT] for the structure.\n",
    "\n",
    "#SITUATION:\n",
    "{question}\n",
    "\n",
    "#FORMAT:\n",
    "- Dialogue in English:\n",
    "- Explanation of the Dialogue: \n",
    "\"\"\"\n",
    "\n",
    "# Generate the prompt using the PromptTemplate\n",
    "prompt = PromptTemplate.from_template(template)\n",
    "\n",
    "# Initialize the ChatOpenAI model.\n",
    "model = ChatOpenAI(model_name=\"gpt-4o-mini\")\n",
    "\n",
    "# Initialize the string output parser.\n",
    "output_parser = StrOutputParser()"
   ]
  },
  {
   "cell_type": "code",
   "execution_count": 20,
   "metadata": {},
   "outputs": [],
   "source": [
    "chain = prompt | model | output_parser"
   ]
  },
  {
   "cell_type": "code",
   "execution_count": 21,
   "metadata": {},
   "outputs": [
    {
     "name": "stdout",
     "output_type": "stream",
     "text": [
      "- **Dialogue in English:**\n",
      "\n",
      "**Waiter:** Good evening! Welcome to The Cozy Corner. How many people are in your party?\n",
      "\n",
      "**You:** Hi! It’s just me tonight, thank you. \n",
      "\n",
      "**Waiter:** Great! Here’s the menu. Can I get you started with something to drink?\n",
      "\n",
      "**You:** Yes, I’d love a glass of iced tea, please.\n",
      "\n",
      "**Waiter:** Sure thing! And are you ready to order your meal, or do you need a few more minutes?\n",
      "\n",
      "**You:** I think I’m ready. I’ll have the grilled chicken salad, please.\n",
      "\n",
      "**Waiter:** Excellent choice! Would you like any dressing with that?\n",
      "\n",
      "**You:** Yes, please. I’ll have ranch dressing on the side. \n",
      "\n",
      "**Waiter:** Perfect! I’ll get that right out for you. Would you like anything else while you wait?\n",
      "\n",
      "**You:** No, that’s all for now. Thank you!\n",
      "\n",
      "**Waiter:** You’re welcome! I’ll be back shortly with your drink and salad.\n",
      "\n",
      "---\n",
      "\n",
      "- **Explanation of the Dialogue:**\n",
      "In this dialogue, you are interacting with a waiter at a restaurant. The conversation starts with a greeting and a question about the number of guests, establishing a friendly atmosphere. You indicate that you're dining alone and are politely asked if you'd like a drink. You order an iced tea, which is a common drink at restaurants. \n",
      "\n",
      "The waiter checks whether you're ready to order food, showing attentiveness to your needs. You respond affirmatively and order a grilled chicken salad, and the waiter clarifies if you want dressing, demonstrating good service. You choose ranch dressing on the side, indicating a preference that allows for customization of your meal. Finally, the waiter offers to bring any additional items while you wait, and you conclude the exchange by thanking them, which is courteous and maintains a pleasant interaction. Overall, the dialogue reflects a typical dining experience, showcasing polite conversation and clear communication."
     ]
    }
   ],
   "source": [
    "answer = chain.stream({\"question\": \"I want to go to a restaurant and order food.\"})\n",
    "for token in answer:\n",
    "    print(token,end=\"\",flush=True)"
   ]
  },
  {
   "cell_type": "code",
   "execution_count": null,
   "metadata": {},
   "outputs": [],
   "source": []
  }
 ],
 "metadata": {
  "kernelspec": {
   "display_name": "Python 3",
   "language": "python",
   "name": "python3"
  },
  "language_info": {
   "codemirror_mode": {
    "name": "ipython",
    "version": 3
   },
   "file_extension": ".py",
   "mimetype": "text/x-python",
   "name": "python",
   "nbconvert_exporter": "python",
   "pygments_lexer": "ipython3",
   "version": "3.12.0"
  }
 },
 "nbformat": 4,
 "nbformat_minor": 2
}
